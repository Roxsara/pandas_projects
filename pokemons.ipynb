{
 "cells": [
  {
   "cell_type": "markdown",
   "id": "378ba5ef",
   "metadata": {},
   "source": [
    "## Loading data into Pandas"
   ]
  },
  {
   "cell_type": "code",
   "execution_count": null,
   "id": "7f95fc17",
   "metadata": {},
   "outputs": [],
   "source": [
    "import pandas as pd\n",
    "\n",
    "df = pd.read_csv('Pokemon.csv')\n",
    "\n",
    "#print(df.head(3))\n",
    "df.head(3)\n",
    "\n",
    "#df_xlsx = pd.read_excel('pokemon_data.xlsx')\n",
    "\n",
    "#df = data frame\n",
    "\n",
    "#.head(x) - header (first x items, default head() is 5)\n",
    "#.tail(x) - last x items"
   ]
  },
  {
   "cell_type": "markdown",
   "id": "b4eed8b5",
   "metadata": {},
   "source": [
    "## Reading data in Pandas"
   ]
  },
  {
   "cell_type": "code",
   "execution_count": null,
   "id": "dbf8ffb3",
   "metadata": {},
   "outputs": [],
   "source": [
    "## Read headers\n",
    "\n",
    "print(df.columns)"
   ]
  },
  {
   "cell_type": "code",
   "execution_count": null,
   "id": "73c36b6a",
   "metadata": {},
   "outputs": [],
   "source": [
    "## Read a column\n",
    "\n",
    "#print(df['Name']))\n",
    "\n",
    "print(df['Name'][0:3])"
   ]
  },
  {
   "cell_type": "code",
   "execution_count": null,
   "id": "f2a3eb03",
   "metadata": {},
   "outputs": [],
   "source": [
    "## Read multiple columns - with a list\n",
    "\n",
    "print(df[['Name', 'Type 1', 'HP']])"
   ]
  },
  {
   "cell_type": "code",
   "execution_count": null,
   "id": "cb7e0067",
   "metadata": {},
   "outputs": [],
   "source": [
    "## Read each row\n",
    "\n",
    "#print(df.head(4))\n",
    "#print(df.iloc[1])\n",
    "#print(df.iloc[1:4])\n",
    "\n",
    "for index, row in df.iterrows():\n",
    "    print(index,row)\n",
    "#   print(index, row['Name'])"
   ]
  },
  {
   "cell_type": "code",
   "execution_count": null,
   "id": "a7462dde",
   "metadata": {},
   "outputs": [],
   "source": [
    "## Read a specific location (R, C)\n",
    "\n",
    "print(df.iloc[2,1])"
   ]
  },
  {
   "cell_type": "code",
   "execution_count": null,
   "id": "42b55360",
   "metadata": {},
   "outputs": [],
   "source": [
    "## Conditional reading\n",
    "\n",
    "df.loc[df['Type 1'] == 'Fire']"
   ]
  },
  {
   "cell_type": "markdown",
   "id": "378b811b",
   "metadata": {},
   "source": [
    "## Sorting/describing data"
   ]
  },
  {
   "cell_type": "code",
   "execution_count": null,
   "id": "8ee32ee7",
   "metadata": {},
   "outputs": [],
   "source": [
    "df.describe()"
   ]
  },
  {
   "cell_type": "code",
   "execution_count": null,
   "id": "3db8aa41",
   "metadata": {},
   "outputs": [],
   "source": [
    "df.sort_values('Name')\n",
    "\n",
    "#df.sort_values('Name', ascending=False)\n",
    "#df.sort_values(['Type 1', 'HP'], ascending=[1,0])"
   ]
  },
  {
   "cell_type": "markdown",
   "id": "4c55e37a",
   "metadata": {},
   "source": [
    "## Making changes to the data"
   ]
  },
  {
   "cell_type": "code",
   "execution_count": null,
   "id": "8e9c5d0b",
   "metadata": {},
   "outputs": [],
   "source": [
    "## Adding a column\n",
    "\n",
    "#df['Total'] = df['HP'] + df['Attack'] + df['Defense']\n",
    "\n",
    "df['Total'] = df.iloc[:, 4:10].sum(axis=1)\n",
    "#:, - all rows\n",
    "#4:9 - columns 5-9\n",
    "#axis=1 - adding horizontally\n",
    "#axis=0 - adding vertically\n",
    "#loc is label-based, which means that you have to specify rows and columns based on their row and column labels\n",
    "#iloc is integer position-based, so you have to specify rows and columns by their integer position values\n",
    "\n",
    "cols = list(df.columns.values)\n",
    "df = df[cols[0:4] + [cols[-1]] + cols[4:12]]\n",
    "\n",
    "df.head(5)"
   ]
  },
  {
   "cell_type": "code",
   "execution_count": null,
   "id": "fe262677",
   "metadata": {},
   "outputs": [],
   "source": [
    "## Deleting a column\n",
    "\n",
    "df = df.drop(columns=['Total'])"
   ]
  },
  {
   "cell_type": "markdown",
   "id": "c075b915",
   "metadata": {},
   "source": [
    "## Saving our data (exporting into desired format)"
   ]
  },
  {
   "cell_type": "code",
   "execution_count": null,
   "id": "42178d37",
   "metadata": {},
   "outputs": [],
   "source": [
    "#df.to_csv('modified.csv')\n",
    "#df.to_csv('modified.csv', index=False)\n",
    "df.to_excel('modified.xlsx')\n",
    "#df.to_csv('modified.txt', index=False, sep='\\t')"
   ]
  },
  {
   "cell_type": "markdown",
   "id": "2569046a",
   "metadata": {},
   "source": [
    "## Filtering data"
   ]
  },
  {
   "cell_type": "code",
   "execution_count": null,
   "id": "5a6537a4",
   "metadata": {
    "scrolled": true
   },
   "outputs": [],
   "source": [
    "#df.loc[df['Type 1'] == 'Grass']\n",
    "#df.loc[(df['Type 1'] == 'Grass') & (df['Type 2'] == 'Poison')]\n",
    "#df.loc[(df['Type 1'] == 'Grass') | (df['Type 2'] == 'Poison') & (df['HP'] >70)] - OR\n",
    "\n",
    "new_df = df.loc[df['Type 1'] == 'Grass']\n",
    "new_df.to_csv('filtered.csv')"
   ]
  },
  {
   "cell_type": "markdown",
   "id": "58c453fb",
   "metadata": {},
   "source": [
    "## Reset index"
   ]
  },
  {
   "cell_type": "code",
   "execution_count": null,
   "id": "482990d2",
   "metadata": {},
   "outputs": [],
   "source": [
    "new_df = new_df.reset_index(drop=True, inplace=True)"
   ]
  },
  {
   "cell_type": "markdown",
   "id": "9da4760d",
   "metadata": {},
   "source": [
    "## Regex filtering"
   ]
  },
  {
   "cell_type": "code",
   "execution_count": null,
   "id": "147bb49d",
   "metadata": {},
   "outputs": [],
   "source": [
    "#df.loc[df['Name'].str.contains('Mega')]\n",
    "#df.loc[~df['Name'].str.contains('Mega')]\n",
    "#excluding ~\n",
    "\n",
    "import re\n",
    "\n",
    "#df.loc[df['Type 1'].str.contains('fire|grass', flags=re.I, regex=True)]\n",
    "df.loc[df['Name'].str.contains('^pi[a-z]*', flags=re.I, regex=True)]\n",
    "\n"
   ]
  },
  {
   "cell_type": "markdown",
   "id": "cc4529f7",
   "metadata": {},
   "source": [
    "## Conditional changes"
   ]
  },
  {
   "cell_type": "code",
   "execution_count": null,
   "id": "000dbb9c",
   "metadata": {},
   "outputs": [],
   "source": [
    "#df.loc[df['Type 1'] == 'Flamer', 'Type 1'] = 'Fire'\n",
    "#df.loc[df['Type 1'] == 'Fire', 'Legendary'] = True\n",
    "\n",
    "df.loc[df['Total'] > 500, ['Generation','Legendary']] = ['test1', 'test2']\n",
    "df"
   ]
  },
  {
   "cell_type": "code",
   "execution_count": null,
   "id": "a8c48f06",
   "metadata": {},
   "outputs": [],
   "source": [
    "df = pd.read_csv('modified.csv')\n",
    "#loading a previous file"
   ]
  },
  {
   "cell_type": "markdown",
   "id": "ce9f2fab",
   "metadata": {},
   "source": [
    "## Aggregate statistics (Groupby)"
   ]
  },
  {
   "cell_type": "code",
   "execution_count": null,
   "id": "238a9363",
   "metadata": {},
   "outputs": [],
   "source": [
    "#df.groupby(['Type 1']).mean().sort_values('Defense', ascending=False)\n",
    "#df.groupby(['Type 1']).sum()\n",
    "#df.groupby(['Type 1']).count()\n",
    "\n",
    "df['count'] = 1\n",
    "df.groupby(['Type 1']).count()['count']\n",
    "\n",
    "#df.groupby(['Type 1', 'Type 2']).count()['count']\n"
   ]
  },
  {
   "cell_type": "markdown",
   "id": "be9f3e9d",
   "metadata": {},
   "source": [
    "## Working with large amounts of data"
   ]
  },
  {
   "cell_type": "code",
   "execution_count": null,
   "id": "f89bf764",
   "metadata": {},
   "outputs": [],
   "source": [
    "new_df = pd.DataFrame(columns=df.columns)\n",
    "\n",
    "for df in pd.read_csv('modified.csv', chunksize=5):\n",
    "    results = df.groupby(['Type1']).count()\n",
    "    \n",
    "    new df = pd.concat([new_df, results])"
   ]
  }
 ],
 "metadata": {
  "kernelspec": {
   "display_name": "Python 3",
   "language": "python",
   "name": "python3"
  },
  "language_info": {
   "codemirror_mode": {
    "name": "ipython",
    "version": 3
   },
   "file_extension": ".py",
   "mimetype": "text/x-python",
   "name": "python",
   "nbconvert_exporter": "python",
   "pygments_lexer": "ipython3",
   "version": "3.8.8"
  }
 },
 "nbformat": 4,
 "nbformat_minor": 5
}
